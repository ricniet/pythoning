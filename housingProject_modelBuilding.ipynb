{
 "cells": [
  {
   "cell_type": "markdown",
   "metadata": {},
   "source": [
    "# Predicting housing prices: Model selection & analysis"
   ]
  },
  {
   "cell_type": "markdown",
   "metadata": {},
   "source": [
    "## Project summary"
   ]
  },
  {
   "cell_type": "markdown",
   "metadata": {},
   "source": [
    "This project was completed as part of the Kaggle competition [House Prices: Advanced Regression Techniques](https://www.kaggle.com/c/house-prices-advanced-regression-techniques). **The goal is to build a model for predicting house prices**.\n",
    "\n",
    "The dataset comes from the Ames Housing Data project, which collected information on homes in Ames, Iowa from 2006 to 2010. The target variable is $SalesPrice$, the price paid for each home. Each of the 2,919 observations represent the sale of an individual home, and contains 81 features useful for appraising the value of each home."
   ]
  },
  {
   "cell_type": "markdown",
   "metadata": {},
   "source": [
    "## About this notebook"
   ]
  },
  {
   "cell_type": "markdown",
   "metadata": {},
   "source": [
    "In this notebook, I take the clean and preprocessed data, assess different potential predictive models on the training set, and once a final model is selected, assess its predictive performance on the test set. The final predictions are saved for Kaggle. \n",
    "\n",
    "I implement 5-fold cross-validation when building models and assessing their performance. 5 folds seems like an adequate number given the moderate dataset size (only about 1,450 observations in the training set). The general approach is summarized as follows:\n",
    "1. Use a grid search (with 5-fold cross-validation) to select the best set of hyperparameter values per candidate model/algorithm (see below) where relevant.\n",
    "2. Use the best set of hyperparameters and refit to the full training set to obtain prediction accuracy criteria which be used to select the best model/algorithm.\n",
    "2. Once a final model is chosen, predictions are made using the test set. Since $SalesPrice$ was log-transformed, the predictions are exponentiated to get them back to their original scale."
   ]
  },
  {
   "cell_type": "markdown",
   "metadata": {},
   "source": [
    "## Candidate models & performance criterion"
   ]
  },
  {
   "cell_type": "markdown",
   "metadata": {},
   "source": [
    "Since we're predicting $SalesPrice$, a continuous variable, the following models/algorithms are selected as candidates:\n",
    "- **Linear regression**: This simple model serves as a baseline.\n",
    "- **Ridge regression**: With a large number of features, ridge regression might serve well to suppress features that aren't important for predicting final sales price.\n",
    "- **Random forest**: Given the large number of features and the complex relationships that might exist, a random forest algorithm has the added bonus (compared to ridge regression) of not imposing a parametric structure. That is, we let the algorithm find the functional form.\n",
    "- **Gradient boosting**: This model was selected for reasons similar to the random forest. It tends to be effective when modeling complex data. My guess is that it will be overkill and not any better than simpler models since the relationship between the target and feature variables seems relatively straightforward. \n",
    "\n",
    "Again, since the target variable is continuous, a natural criterion to capture predictive performance is the **mean squared error (MSE)**. I'll actually use the square root of MSE, **RMSE**, since it's on the scale of the data."
   ]
  },
  {
   "cell_type": "code",
   "execution_count": 1,
   "metadata": {},
   "outputs": [],
   "source": [
    "# begin by importing all necessary libraries for this notebook:\n",
    "\n",
    "import pickle\n",
    "import matplotlib.pyplot as plt\n",
    "import seaborn as sns\n",
    "import numpy as np\n",
    "import pandas as pd\n",
    "\n",
    "# for fit criteria\n",
    "from sklearn.metrics import mean_squared_error, r2_score\n",
    "\n",
    "# for performing a grid search\n",
    "from sklearn.model_selection import GridSearchCV\n",
    "\n",
    "# for CV\n",
    "from sklearn.model_selection import cross_val_score\n",
    "\n",
    "# for linear regression\n",
    "from sklearn import linear_model\n",
    "\n",
    "# for ridge regression\n",
    "from sklearn.linear_model import Ridge\n",
    "\n",
    "# for random forest\n",
    "from sklearn.ensemble import RandomForestRegressor\n",
    "\n",
    "# for inline plotting:\n",
    "\n",
    "%matplotlib inline"
   ]
  },
  {
   "cell_type": "code",
   "execution_count": 2,
   "metadata": {},
   "outputs": [],
   "source": [
    "# open clean data\n",
    "\n",
    "with open(\"final_adj_housingData.pickle\", \"rb\") as f:\n",
    "    X_train_adj,y_train,X_test_adj = pickle.load(f) "
   ]
  },
  {
   "cell_type": "markdown",
   "metadata": {},
   "source": [
    "The following function *display_scores()* was written to summarize the results of performing K-fold cross validation. It takes the resulting K performance scores and outputs the: (1) K scores, (2) average of the K scores, and (3) standard deviation of the K scores.  "
   ]
  },
  {
   "cell_type": "code",
   "execution_count": 3,
   "metadata": {},
   "outputs": [],
   "source": [
    "## little helper function to print results\n",
    "\n",
    "def display_scores(scores):\n",
    "    scores_star = [ '%.4f' % elem for elem in scores ]\n",
    "    print(\"Mean scores in each fold:\", scores_star)\n",
    "    print(\"Mean score across folds:\", round(scores.mean(),4))\n",
    "    print(\"Standard deviation of scores across folds:\", round(scores.std(),4))"
   ]
  },
  {
   "cell_type": "markdown",
   "metadata": {},
   "source": [
    "## Model selection"
   ]
  },
  {
   "cell_type": "markdown",
   "metadata": {},
   "source": [
    "**Note that the scoring function within cross_val_score() is set so that higher values denote better performance (i.e., we get the -MSE). I transform these so that I can work with the traditional MSE where higher values denote worse performance.**"
   ]
  },
  {
   "cell_type": "markdown",
   "metadata": {},
   "source": [
    "### Baseline model: Linear regression"
   ]
  },
  {
   "cell_type": "code",
   "execution_count": 4,
   "metadata": {},
   "outputs": [],
   "source": [
    "# create linear regression object\n",
    "\n",
    "regr = linear_model.LinearRegression()\n",
    "\n",
    "# using 10-fold cross validation\n",
    "\n",
    "linReg_scores = cross_val_score(estimator=regr, \n",
    "                                cv=10, \n",
    "                                X=X_train_adj, y=y_train,\n",
    "                                scoring='neg_mean_squared_error')"
   ]
  },
  {
   "cell_type": "code",
   "execution_count": 5,
   "metadata": {},
   "outputs": [
    {
     "name": "stdout",
     "output_type": "stream",
     "text": [
      "Mean scores in each fold: ['0.0923', '0.0959', '0.0793', '0.1008', '0.1089', '0.0772', '0.0894', '0.0714', '0.0997', '0.3186']\n",
      "Mean score across folds: 0.1134\n",
      "Standard deviation of scores across folds: 0.0693\n"
     ]
    }
   ],
   "source": [
    "## remember: -MSE, so bigger is *better*\n",
    "## to convert to RMSE: -sqrt(-MSE)\n",
    "\n",
    "linReg_rmse_scores = np.sqrt(-linReg_scores)\n",
    "\n",
    "display_scores(linReg_rmse_scores)"
   ]
  },
  {
   "cell_type": "markdown",
   "metadata": {},
   "source": [
    "#### Linear regression results"
   ]
  },
  {
   "cell_type": "markdown",
   "metadata": {},
   "source": [
    "The average RMSE across model fittings is 0.113 with a standard deviation of 0.069. The standard deviation is relatively high, and looking at the individual scores reveals that it's due to the 10th fold, which has an average MSE score of 0.32."
   ]
  },
  {
   "cell_type": "markdown",
   "metadata": {},
   "source": [
    "### Ridge regression"
   ]
  },
  {
   "cell_type": "code",
   "execution_count": 6,
   "metadata": {},
   "outputs": [
    {
     "data": {
      "text/plain": [
       "GridSearchCV(cv=5, error_score='raise-deprecating',\n",
       "       estimator=Ridge(alpha=1.0, copy_X=True, fit_intercept=True, max_iter=None,\n",
       "   normalize=False, random_state=None, solver='auto', tol=0.001),\n",
       "       fit_params=None, iid='warn', n_jobs=None,\n",
       "       param_grid={'alpha': [1e-15, 1e-10, 1e-08, 0.0001, 0.001, 0.01, 1, 5, 10, 20]},\n",
       "       pre_dispatch='2*n_jobs', refit=True, return_train_score='warn',\n",
       "       scoring='neg_mean_squared_error', verbose=0)"
      ]
     },
     "execution_count": 6,
     "metadata": {},
     "output_type": "execute_result"
    }
   ],
   "source": [
    "# create linear regression object\n",
    "\n",
    "ridge_reg = Ridge()\n",
    "\n",
    "# hyperparameter (alpha) values to investigate in the grid search\n",
    "\n",
    "param_grid_ridge = {'alpha': [1e-15, 1e-10, 1e-8, 1e-4, 1e-3,1e-2, 1, 5, 10, 20]}\n",
    "\n",
    "# grid search object\n",
    "\n",
    "ridgeReg_grid = GridSearchCV(estimator = ridge_reg, \n",
    "                            param_grid=param_grid_ridge, \n",
    "                            cv = 5, \n",
    "                            scoring='neg_mean_squared_error')\n",
    "\n",
    "# Fit the random search model\n",
    "\n",
    "ridgeReg_grid.fit(X_train_adj, y_train)"
   ]
  },
  {
   "cell_type": "markdown",
   "metadata": {},
   "source": [
    "The best value of alpha is 5:"
   ]
  },
  {
   "cell_type": "code",
   "execution_count": 7,
   "metadata": {},
   "outputs": [
    {
     "data": {
      "text/plain": [
       "{'alpha': 5}"
      ]
     },
     "execution_count": 7,
     "metadata": {},
     "output_type": "execute_result"
    }
   ],
   "source": [
    "# reveal best estimate of alpha\n",
    "\n",
    "ridgeReg_grid.best_params_"
   ]
  },
  {
   "cell_type": "markdown",
   "metadata": {},
   "source": [
    "Refit ridge regression using alpha = 5 on the full training set:"
   ]
  },
  {
   "cell_type": "code",
   "execution_count": 8,
   "metadata": {},
   "outputs": [],
   "source": [
    "# refit to full training set with best estimator\n",
    "\n",
    "ridge_reg = Ridge(alpha=5)\n",
    "ridgeReg_scores = cross_val_score(estimator=ridge_reg, \n",
    "                                cv=10, \n",
    "                                X=X_train_adj, y=y_train,\n",
    "                                scoring='neg_mean_squared_error')"
   ]
  },
  {
   "cell_type": "code",
   "execution_count": 9,
   "metadata": {},
   "outputs": [
    {
     "name": "stdout",
     "output_type": "stream",
     "text": [
      "Mean scores in each fold: ['0.0831', '0.0618', '0.0709', '0.0947', '0.1020', '0.0705', '0.0882', '0.0680', '0.0862', '0.0801']\n",
      "Mean score across folds: 0.0805\n",
      "Standard deviation of scores across folds: 0.0121\n"
     ]
    }
   ],
   "source": [
    "## remember: -MSE, so bigger is *better*\n",
    "## to convert to RMSE: -sqrt(-MSE)\n",
    "\n",
    "rRidgeReg_rmse_scores = np.sqrt(-ridgeReg_scores)\n",
    "\n",
    "display_scores(rRidgeReg_rmse_scores)"
   ]
  },
  {
   "cell_type": "code",
   "execution_count": 10,
   "metadata": {},
   "outputs": [
    {
     "data": {
      "image/png": "[encoded data removed]",
      "text/plain": [
       "<Figure size 432x288 with 1 Axes>"
      ]
     },
     "metadata": {
      "needs_background": "light"
     },
     "output_type": "display_data"
    }
   ],
   "source": [
    "final_model = ridgeReg_grid.best_estimator_\n",
    "rRidgeReg_pred = np.exp(final_model.predict(X_train_adj))\n",
    "\n",
    "plt.scatter(rRidgeReg_pred, np.exp(y_train), alpha=.75, color='b')\n",
    "plt.xlabel('Predicted Price')\n",
    "plt.ylabel('Actual Price')\n",
    "plt.title('Ridge Regularization with alpha = 20')\n",
    "plt.show()"
   ]
  },
  {
   "cell_type": "markdown",
   "metadata": {},
   "source": [
    "#### Summary of ridge regression"
   ]
  },
  {
   "cell_type": "markdown",
   "metadata": {},
   "source": [
    "The average RMSE across model fittings is 0.081 with a standard deviation of 0.012. Compared to using linear regression, Ridge regression outperforms linear regression, and has a much smaller standard deviation."
   ]
  },
  {
   "cell_type": "markdown",
   "metadata": {},
   "source": [
    "### Random forest"
   ]
  },
  {
   "cell_type": "code",
   "execution_count": 11,
   "metadata": {},
   "outputs": [],
   "source": [
    "forest_reg = RandomForestRegressor()\n",
    "\n",
    "param_grid_forest = {'n_estimators' : [10,50,100,150,200],\n",
    "                     'max_depth': [10,20,30,40,50]}"
   ]
  },
  {
   "cell_type": "code",
   "execution_count": 12,
   "metadata": {},
   "outputs": [
    {
     "data": {
      "text/plain": [
       "GridSearchCV(cv=5, error_score='raise-deprecating',\n",
       "       estimator=RandomForestRegressor(bootstrap=True, criterion='mse', max_depth=None,\n",
       "           max_features='auto', max_leaf_nodes=None,\n",
       "           min_impurity_decrease=0.0, min_impurity_split=None,\n",
       "           min_samples_leaf=1, min_samples_split=2,\n",
       "           min_weight_fraction_leaf=0.0, n_estimators='warn', n_jobs=None,\n",
       "           oob_score=False, random_state=None, verbose=0, warm_start=False),\n",
       "       fit_params=None, iid='warn', n_jobs=None,\n",
       "       param_grid={'n_estimators': [10, 50, 100, 150, 200], 'max_depth': [10, 20, 30, 40, 50]},\n",
       "       pre_dispatch='2*n_jobs', refit=True, return_train_score='warn',\n",
       "       scoring='neg_mean_squared_error', verbose=0)"
      ]
     },
     "execution_count": 12,
     "metadata": {},
     "output_type": "execute_result"
    }
   ],
   "source": [
    "# grid search to find best max_depth hyperparamter value\n",
    "\n",
    "forestReg_grid = GridSearchCV(estimator = forest_reg, \n",
    "                            param_grid=param_grid_forest, \n",
    "                            cv = 5, \n",
    "                            scoring='neg_mean_squared_error')\n",
    "\n",
    "# Fit the random search model\n",
    "forestReg_grid.fit(X_train_adj, y_train.values.ravel())"
   ]
  },
  {
   "cell_type": "code",
   "execution_count": 13,
   "metadata": {},
   "outputs": [
    {
     "data": {
      "text/plain": [
       "{'max_depth': 50, 'n_estimators': 200}"
      ]
     },
     "execution_count": 13,
     "metadata": {},
     "output_type": "execute_result"
    }
   ],
   "source": [
    "forestReg_grid.best_params_"
   ]
  },
  {
   "cell_type": "markdown",
   "metadata": {},
   "source": [
    "Refit random forest using max_depth = 25 and n_estimators = 50 on the full training set:"
   ]
  },
  {
   "cell_type": "code",
   "execution_count": 14,
   "metadata": {},
   "outputs": [],
   "source": [
    "# refit with best estimator\n",
    "\n",
    "forest_reg = RandomForestRegressor(n_estimators=50, max_depth=25)\n",
    "\n",
    "forestReg_scores = cross_val_score(estimator=forest_reg, \n",
    "                                cv=5, \n",
    "                                X=X_train_adj, y=y_train.values.ravel(),\n",
    "                                scoring='neg_mean_squared_error')\n",
    "\n",
    "#pickle.dump(forestReg_scores, 'saved_fullTrainedForest.pkl') "
   ]
  },
  {
   "cell_type": "code",
   "execution_count": 15,
   "metadata": {},
   "outputs": [
    {
     "name": "stdout",
     "output_type": "stream",
     "text": [
      "Mean scores in each fold: ['0.0050', '0.0138', '0.0145', '0.0176', '0.0120']\n",
      "Mean score across folds: 0.0126\n",
      "Standard deviation of scores across folds: 0.0042\n"
     ]
    }
   ],
   "source": [
    "## remember: -MSE, so bigger is *better*\n",
    "## to convert to RMSE: -sqrt(-MSE)\n",
    "\n",
    "forestReg_rmse_scores = np.sqrt(-forestReg_scores)\n",
    "\n",
    "display_scores(forestReg_rmse_scores)"
   ]
  },
  {
   "cell_type": "markdown",
   "metadata": {},
   "source": [
    "#### Summary of random forest"
   ]
  },
  {
   "cell_type": "markdown",
   "metadata": {},
   "source": [
    "The average RMSE across model fittings is 0.014 with a standard deviation of 0.004. Compared to using ridge regression, the random forest algorithm outperforms ridge regression. Both the average RMSE and variation across folds is smaller. "
   ]
  },
  {
   "cell_type": "markdown",
   "metadata": {},
   "source": [
    "## Final model: Random forest"
   ]
  },
  {
   "cell_type": "code",
   "execution_count": 16,
   "metadata": {},
   "outputs": [],
   "source": [
    "## eval on test set using random forest\n",
    "final_model = forestReg_grid.best_estimator_\n",
    "y_hat_log = final_model.predict(X_test_adj)\n",
    "y_hat = np.exp(y_hat_log)"
   ]
  },
  {
   "cell_type": "code",
   "execution_count": 17,
   "metadata": {},
   "outputs": [
    {
     "data": {
      "text/html": [
       "<div>\n",
       "<style scoped>\n",
       "    .dataframe tbody tr th:only-of-type {\n",
       "        vertical-align: middle;\n",
       "    }\n",
       "\n",
       "    .dataframe tbody tr th {\n",
       "        vertical-align: top;\n",
       "    }\n",
       "\n",
       "    .dataframe thead th {\n",
       "        text-align: right;\n",
       "    }\n",
       "</style>\n",
       "<table border=\"1\" class=\"dataframe\">\n",
       "  <thead>\n",
       "    <tr style=\"text-align: right;\">\n",
       "      <th></th>\n",
       "      <th>Id</th>\n",
       "      <th>SalePrice</th>\n",
       "    </tr>\n",
       "  </thead>\n",
       "  <tbody>\n",
       "    <tr>\n",
       "      <th>0</th>\n",
       "      <td>1461</td>\n",
       "      <td>162967.121698</td>\n",
       "    </tr>\n",
       "    <tr>\n",
       "      <th>1</th>\n",
       "      <td>1462</td>\n",
       "      <td>162930.864292</td>\n",
       "    </tr>\n",
       "    <tr>\n",
       "      <th>2</th>\n",
       "      <td>1463</td>\n",
       "      <td>162992.212805</td>\n",
       "    </tr>\n",
       "    <tr>\n",
       "      <th>3</th>\n",
       "      <td>1464</td>\n",
       "      <td>162960.606555</td>\n",
       "    </tr>\n",
       "    <tr>\n",
       "      <th>4</th>\n",
       "      <td>1465</td>\n",
       "      <td>162876.841936</td>\n",
       "    </tr>\n",
       "  </tbody>\n",
       "</table>\n",
       "</div>"
      ],
      "text/plain": [
       "     Id      SalePrice\n",
       "0  1461  162967.121698\n",
       "1  1462  162930.864292\n",
       "2  1463  162992.212805\n",
       "3  1464  162960.606555\n",
       "4  1465  162876.841936"
      ]
     },
     "execution_count": 17,
     "metadata": {},
     "output_type": "execute_result"
    }
   ],
   "source": [
    "## prep for submission\n",
    "t = pd.read_csv('./test.csv') # i need Id\n",
    "submission = pd.DataFrame()\n",
    "submission['Id'] = t.Id\n",
    "submission['SalePrice'] = y_hat\n",
    "submission.head()"
   ]
  },
  {
   "cell_type": "code",
   "execution_count": 18,
   "metadata": {},
   "outputs": [],
   "source": [
    "submission.to_csv('submission1.csv', index=False)"
   ]
  }
 ],
 "metadata": {
  "kernelspec": {
   "display_name": "Python 3",
   "language": "python",
   "name": "python3"
  },
  "language_info": {
   "codemirror_mode": {
    "name": "ipython",
    "version": 3
   },
   "file_extension": ".py",
   "mimetype": "text/x-python",
   "name": "python",
   "nbconvert_exporter": "python",
   "pygments_lexer": "ipython3",
   "version": "3.6.7"
  }
 },
 "nbformat": 4,
 "nbformat_minor": 2
}
